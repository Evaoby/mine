{
 "cells": [
  {
   "cell_type": "markdown",
   "id": "0496fda3-b977-4ee9-8613-fdf1e01ee5f9",
   "metadata": {},
   "source": [
    "# Variable\n",
    "##### What is a Variable? \n",
    "A variable is a container that store values, it is also called a memory location.\n"
   ]
  },
  {
   "cell_type": "code",
   "execution_count": 2,
   "id": "a31ef294-6366-4095-9ee8-1506b649ad41",
   "metadata": {},
   "outputs": [],
   "source": [
    "Name = 'Olamide'"
   ]
  },
  {
   "cell_type": "code",
   "execution_count": 3,
   "id": "bff7798b-7ae5-4c26-a37e-8000edab918e",
   "metadata": {},
   "outputs": [],
   "source": [
    "x=5 \n",
    "y=7"
   ]
  },
  {
   "cell_type": "code",
   "execution_count": 4,
   "id": "d0c68b19-4cb9-49de-90e1-2d1a425fe06e",
   "metadata": {},
   "outputs": [
    {
     "data": {
      "text/plain": [
       "5"
      ]
     },
     "execution_count": 4,
     "metadata": {},
     "output_type": "execute_result"
    }
   ],
   "source": [
    "x"
   ]
  },
  {
   "cell_type": "code",
   "execution_count": 5,
   "id": "12232845-d3c0-4dd9-9cec-28f6be56d4f1",
   "metadata": {},
   "outputs": [
    {
     "name": "stdout",
     "output_type": "stream",
     "text": [
      "5\n"
     ]
    }
   ],
   "source": [
    "print (x)"
   ]
  },
  {
   "cell_type": "code",
   "execution_count": 6,
   "id": "04702094-7641-493b-930c-01966db8b744",
   "metadata": {},
   "outputs": [
    {
     "data": {
      "text/plain": [
       "0.7142857142857143"
      ]
     },
     "execution_count": 6,
     "metadata": {},
     "output_type": "execute_result"
    }
   ],
   "source": [
    "x+y\n",
    "x/y"
   ]
  },
  {
   "cell_type": "markdown",
   "id": "764c7da5-20b8-4656-ae06-a5934789fdca",
   "metadata": {},
   "source": [
    "## Rule of Variables\n",
    "* ## Number 1: A variable must start with a letter (either upper case or lower case) or an underscore\n",
    "  ##### A variable cannot start with a number.\n",
    "  ##### A variable can only contain alphanumeric characters and underscores. (e.g, My_var 1)\n",
    "  ##### Variable names are case sensitive."
   ]
  },
  {
   "cell_type": "code",
   "execution_count": 8,
   "id": "bd79345c-acd7-497d-a5c3-b12cb45aa233",
   "metadata": {},
   "outputs": [
    {
     "ename": "NameError",
     "evalue": "name 'name' is not defined",
     "output_type": "error",
     "traceback": [
      "\u001b[1;31m---------------------------------------------------------------------------\u001b[0m",
      "\u001b[1;31mNameError\u001b[0m                                 Traceback (most recent call last)",
      "Cell \u001b[1;32mIn[8], line 1\u001b[0m\n\u001b[1;32m----> 1\u001b[0m name\n",
      "\u001b[1;31mNameError\u001b[0m: name 'name' is not defined"
     ]
    }
   ],
   "source": [
    "name "
   ]
  },
  {
   "cell_type": "code",
   "execution_count": null,
   "id": "ed755979-53bb-4a1e-a28a-1689a11f8b8f",
   "metadata": {},
   "outputs": [],
   "source": [
    "1name "
   ]
  },
  {
   "cell_type": "code",
   "execution_count": null,
   "id": "cadc9113-02f7-446c-a216-fa7691c6c175",
   "metadata": {},
   "outputs": [],
   "source": [
    "NAME == \"Olamide\""
   ]
  },
  {
   "cell_type": "code",
   "execution_count": null,
   "id": "02ff35bb-7bb1-4fb0-b7c0-e0a2a0b3bd3e",
   "metadata": {},
   "outputs": [],
   "source": [
    "NAME = 'Olamide'"
   ]
  },
  {
   "cell_type": "code",
   "execution_count": null,
   "id": "9d74ad6a-669a-4161-89bd-29e77d2661b1",
   "metadata": {},
   "outputs": [],
   "source": [
    "NAME"
   ]
  },
  {
   "cell_type": "code",
   "execution_count": null,
   "id": "d87ae8ab-931a-4d97-ac7d-cd34c5a2a2a5",
   "metadata": {},
   "outputs": [],
   "source": [
    "Name == NAME"
   ]
  },
  {
   "cell_type": "code",
   "execution_count": null,
   "id": "d829bcd9-9562-438b-8bbc-77941371c12d",
   "metadata": {},
   "outputs": [],
   "source": [
    "X = 21\n",
    "Z = 25"
   ]
  },
  {
   "cell_type": "code",
   "execution_count": null,
   "id": "fecc4d67-b382-4ac7-a37a-9117a9585bc8",
   "metadata": {},
   "outputs": [],
   "source": [
    "x = 21"
   ]
  },
  {
   "cell_type": "code",
   "execution_count": null,
   "id": "5ec0bf1b-da21-4b99-9467-b11eeb17f58d",
   "metadata": {},
   "outputs": [],
   "source": [
    "X == x"
   ]
  },
  {
   "cell_type": "markdown",
   "id": "c06a8554-685f-4b8c-958c-290905e7de37",
   "metadata": {},
   "source": [
    "## Operators\n",
    "* ##### Operetors are special symbols or keywords that are used to perform operations on variables and values.\n",
    "* ##### They can manipulate data and variables to produce a result.\n",
    "  Categories of Operators\n",
    "* Arimethic operators: they perform basic mathematical operations.\n",
    "* (+) : Addition\n",
    "* Division operator : Floor(//) and Modulus(%) \n",
    "* Comparison operator: they compare two values and returns a boolean\n",
    "* first one is 'equals to' (==)\n",
    "* second one is not equals to (!=)\n",
    "* third one is 'greater than' (>)\n",
    "* fourth one is \"less than\" (<)\n",
    "* greater than or equals (>=)\n",
    "* less than or equals to (<=)\n",
    "* Assignment operators (=) we use assignment operators to assign values to variable\n",
    "* logical operators: First is \"and\" : it would return \"true\" is both conditions are true. Secondly, all would return \"true\" if at least one condition is true. Third, \"not\" it would return \"false\" if none is true."
   ]
  },
  {
   "cell_type": "code",
   "execution_count": null,
   "id": "89464a7a-be6f-4c2c-93cd-ae1f70a15c38",
   "metadata": {},
   "outputs": [],
   "source": [
    "x = 7\n",
    "y = 9"
   ]
  },
  {
   "cell_type": "code",
   "execution_count": null,
   "id": "143d8351-55ae-4706-aa3c-40e4fcf4a30b",
   "metadata": {},
   "outputs": [],
   "source": [
    "x+y"
   ]
  },
  {
   "cell_type": "code",
   "execution_count": null,
   "id": "6ef4c4ca-9ef2-4adb-9bd6-4a686c41b525",
   "metadata": {},
   "outputs": [],
   "source": [
    "x-y"
   ]
  },
  {
   "cell_type": "code",
   "execution_count": null,
   "id": "da9de491-9b2f-470c-bbe5-5af21a3650e9",
   "metadata": {},
   "outputs": [],
   "source": [
    "x/y"
   ]
  },
  {
   "cell_type": "code",
   "execution_count": null,
   "id": "e7257068-9921-48c2-b828-26dd9f83ea5b",
   "metadata": {},
   "outputs": [],
   "source": [
    "x*y"
   ]
  },
  {
   "cell_type": "code",
   "execution_count": null,
   "id": "65438d51-fbeb-4c73-88a3-9c6c2c11ef5d",
   "metadata": {},
   "outputs": [],
   "source": [
    "a = 5\n",
    "b = 2"
   ]
  },
  {
   "cell_type": "code",
   "execution_count": null,
   "id": "83e8ebd2-7c74-4a70-810f-bf299d34bf06",
   "metadata": {},
   "outputs": [],
   "source": [
    "a/b"
   ]
  },
  {
   "cell_type": "code",
   "execution_count": null,
   "id": "fbe094d7-b4ac-4c15-8fa0-f41aa26fc52b",
   "metadata": {},
   "outputs": [],
   "source": [
    "a//b"
   ]
  },
  {
   "cell_type": "code",
   "execution_count": null,
   "id": "1909c224-6c22-4a4d-b632-6c4961d4e414",
   "metadata": {},
   "outputs": [],
   "source": [
    "e = 4\n",
    "f = 6"
   ]
  },
  {
   "cell_type": "code",
   "execution_count": null,
   "id": "17268689-2e57-4661-8ad5-55c3b52569cb",
   "metadata": {},
   "outputs": [],
   "source": [
    "e/f"
   ]
  },
  {
   "cell_type": "code",
   "execution_count": null,
   "id": "025bce2c-5f22-43f5-8ed5-2f82e33d7f53",
   "metadata": {},
   "outputs": [],
   "source": [
    "e//f"
   ]
  },
  {
   "cell_type": "code",
   "execution_count": null,
   "id": "68da2af0-fad4-4c13-b857-07fb7925d1fe",
   "metadata": {},
   "outputs": [],
   "source": [
    "g = 6\n",
    "h = 4"
   ]
  },
  {
   "cell_type": "code",
   "execution_count": null,
   "id": "a13f0e7b-4d45-4d10-901f-4eacb4a338a5",
   "metadata": {},
   "outputs": [],
   "source": [
    "g/h"
   ]
  },
  {
   "cell_type": "code",
   "execution_count": null,
   "id": "dcfc7278-6e8a-411a-84a1-9577cf56db2f",
   "metadata": {},
   "outputs": [],
   "source": [
    "g//h"
   ]
  },
  {
   "cell_type": "code",
   "execution_count": null,
   "id": "de438d29-d6c6-4dc1-a943-9db43db4150c",
   "metadata": {},
   "outputs": [],
   "source": [
    "g != h"
   ]
  },
  {
   "cell_type": "code",
   "execution_count": null,
   "id": "0315d3d0-edd9-46c8-8043-36b8e35783b7",
   "metadata": {},
   "outputs": [],
   "source": [
    "City = \"Lagos\"\n",
    "State = \"Lagos\""
   ]
  },
  {
   "cell_type": "code",
   "execution_count": null,
   "id": "15974a3f-a39d-4746-93c1-515f78ac1b82",
   "metadata": {},
   "outputs": [],
   "source": [
    "City == State"
   ]
  },
  {
   "cell_type": "code",
   "execution_count": null,
   "id": "78f37788-b51e-4e94-b4e1-a01bd09fa103",
   "metadata": {},
   "outputs": [],
   "source": [
    "import, for,"
   ]
  },
  {
   "cell_type": "markdown",
   "id": "55c7d0bd-f066-4ed9-8ed5-b1a4c2ffe834",
   "metadata": {},
   "source": [
    "* ##### Python datatypes\n",
    "* Numeric: Python numeric are numbers in python either intergers or decimals, numbers ranging from zero to infinity\n",
    "* intergers: are whole numbers either positive or negative"
   ]
  },
  {
   "cell_type": "code",
   "execution_count": null,
   "id": "4c410f23-d4e6-43e1-aa19-52c0755648a9",
   "metadata": {},
   "outputs": [],
   "source": [
    "X = 2"
   ]
  },
  {
   "cell_type": "code",
   "execution_count": null,
   "id": "c29fbc0b-85f1-4179-a3b0-6d5b27a0c81e",
   "metadata": {},
   "outputs": [],
   "source": [
    "type (X)"
   ]
  },
  {
   "cell_type": "code",
   "execution_count": null,
   "id": "cf0106c7-bf60-4a53-89bd-2ddae2c1e1b7",
   "metadata": {},
   "outputs": [],
   "source": [
    "y = -2"
   ]
  },
  {
   "cell_type": "code",
   "execution_count": null,
   "id": "60d4f734-5355-467f-aa5b-9b798186db93",
   "metadata": {},
   "outputs": [],
   "source": [
    "type (y)"
   ]
  },
  {
   "cell_type": "markdown",
   "id": "c5df9e99-21e6-4b5e-a19f-050fd26ee8bb",
   "metadata": {},
   "source": [
    "What is a float: floats are numbers with decimal points either positive or negative"
   ]
  },
  {
   "cell_type": "code",
   "execution_count": null,
   "id": "d3d84c68-11bd-48f7-b438-c12f6e00b309",
   "metadata": {},
   "outputs": [],
   "source": [
    "z = 1.34"
   ]
  },
  {
   "cell_type": "code",
   "execution_count": null,
   "id": "0a13abd5-db7c-485d-973b-20f9a8ec9568",
   "metadata": {},
   "outputs": [],
   "source": [
    "type (z)"
   ]
  },
  {
   "cell_type": "markdown",
   "id": "7fdb392c-504b-450a-826a-374953d5e338",
   "metadata": {},
   "source": [
    "Characteristics of numeric datatypes\n",
    "1. They are immutable :\n",
    "2. it supports arimetic operations "
   ]
  },
  {
   "cell_type": "code",
   "execution_count": null,
   "id": "2f8e6d88-9228-427d-ad2b-f246f358e703",
   "metadata": {},
   "outputs": [],
   "source": [
    "x + z"
   ]
  },
  {
   "cell_type": "code",
   "execution_count": null,
   "id": "97ad76dd-155f-4f79-9342-3d7ecedbce63",
   "metadata": {},
   "outputs": [],
   "source": [
    "add (x+z)"
   ]
  },
  {
   "cell_type": "markdown",
   "id": "3c717a74-de00-4cc1-8a46-8ac63fd38d5a",
   "metadata": {},
   "source": [
    "Used case of python numeric datatypes, we used it for counting and indexing\n",
    "while for float, we use it for precise calculations like averages and percentages"
   ]
  },
  {
   "cell_type": "markdown",
   "id": "5df88843-c9bf-44c5-a02d-2c9da3351f2a",
   "metadata": {},
   "source": [
    "Python strings are sequence of characters (text) enclosed in quotes \"\" i.e strings are sequence data types"
   ]
  },
  {
   "cell_type": "code",
   "execution_count": null,
   "id": "b18d3822-1637-487c-9087-f4f4d04b1f5b",
   "metadata": {},
   "outputs": [],
   "source": [
    "Name = 'Olamide Awolaja'"
   ]
  },
  {
   "cell_type": "code",
   "execution_count": null,
   "id": "38f2c1a3-6055-4928-b3b4-ac9f579cb8b6",
   "metadata": {},
   "outputs": [],
   "source": [
    "type (Name)"
   ]
  },
  {
   "cell_type": "code",
   "execution_count": null,
   "id": "15debb76-f6ec-44cd-b45c-76c9d01c6ee7",
   "metadata": {},
   "outputs": [],
   "source": [
    "Name [0]"
   ]
  },
  {
   "cell_type": "code",
   "execution_count": null,
   "id": "677acfec-a584-4c12-b4b9-1b94440d333c",
   "metadata": {},
   "outputs": [],
   "source": [
    "Name [7]"
   ]
  },
  {
   "cell_type": "markdown",
   "id": "a8154c9a-2788-4e85-a1de-e044fe0e98cf",
   "metadata": {},
   "source": [
    "Characteristics of a string\n",
    "1. It is immutable\n",
    "2. They supports indexing and slicing (slicing is a process of extracting a character out)\n",
    "3. "
   ]
  },
  {
   "cell_type": "code",
   "execution_count": null,
   "id": "278f2ce2-d21d-47fc-9326-4d764ba449dd",
   "metadata": {},
   "outputs": [],
   "source": [
    "Name [-1]"
   ]
  },
  {
   "cell_type": "code",
   "execution_count": null,
   "id": "50d02144-66e3-4272-817c-2380d075ab27",
   "metadata": {},
   "outputs": [],
   "source": [
    "Name [1:4]"
   ]
  },
  {
   "cell_type": "markdown",
   "id": "7e9d96a1-46c0-43ad-b76e-1726ecb34384",
   "metadata": {},
   "source": [
    "Why do I need to learn python case on strings i.e the use case of python strings\n",
    "1. we used to store textual data. e.g names, address, gmail, etc"
   ]
  },
  {
   "cell_type": "markdown",
   "id": "9f7cf165-3ec1-4edd-90f2-6fa2f8e21ed8",
   "metadata": {},
   "source": [
    "Python List:\n",
    "1. A list is an ordered collection of items that can be changed. i.e mutable (flexible)\n",
    "2. We can also say that \"a list is an ordered collection of items seperated by commas and enclosed in square brackets\" Cities = [\"Ondo\", \"Ekiti\", \"Osun\", \"Oyo\", \"Ogun\"]\n",
    "3. you can mix integers with words or letters in a list e.g [\"Ondo\", \"Ekiti\", \"Osun\", \"Oyo\", \"Ogun\", 20, 27]\n"
   ]
  },
  {
   "cell_type": "code",
   "execution_count": null,
   "id": "709c0c73-6cc6-4c9a-b8d6-87c01f2222a6",
   "metadata": {},
   "outputs": [],
   "source": [
    "Cities = [\"Ondo\", \"Ekiti\", \"Osun\", \"Oyo\", \"Ogun\", 20, 27]"
   ]
  },
  {
   "cell_type": "code",
   "execution_count": null,
   "id": "7e2d9bd2-85d1-4960-abd7-dcd3001215c3",
   "metadata": {},
   "outputs": [],
   "source": [
    "type (Cities)\n"
   ]
  },
  {
   "cell_type": "code",
   "execution_count": null,
   "id": "3081858d-afe4-4bed-81f0-276f54b95f57",
   "metadata": {},
   "outputs": [],
   "source": [
    "Cities [3]"
   ]
  },
  {
   "cell_type": "code",
   "execution_count": null,
   "id": "37309580-2aa0-41aa-a05c-dc05c948316a",
   "metadata": {},
   "outputs": [],
   "source": [
    "Cities [-1]"
   ]
  },
  {
   "cell_type": "markdown",
   "id": "18a88c6c-9601-4dff-812e-eec5787b405c",
   "metadata": {},
   "source": [
    "Used case scecenario of list\n",
    "1. It is used for storing multiple values like rows of data"
   ]
  },
  {
   "cell_type": "markdown",
   "id": "0369e279-1ea9-4fa5-a442-fa41d9a28bfb",
   "metadata": {},
   "source": [
    "Tuple:\n",
    "difference btw list and tuple : tuple uses curved brackets/parenthesis () while for list it is square brackets[] , and tuple is not mutable while list is mutable\n",
    "Therefore a Tuple is an ordered collection of itmes that can be changed"
   ]
  },
  {
   "cell_type": "code",
   "execution_count": 2,
   "id": "e8604711-23c9-438f-9c13-5e8594cba6fe",
   "metadata": {},
   "outputs": [],
   "source": [
    "my_tuple = (5, 6, 7, \"hi\", False)"
   ]
  },
  {
   "cell_type": "code",
   "execution_count": 4,
   "id": "6bf77f6d-31e2-41f1-873e-1554ab828ab6",
   "metadata": {},
   "outputs": [
    {
     "data": {
      "text/plain": [
       "6"
      ]
     },
     "execution_count": 4,
     "metadata": {},
     "output_type": "execute_result"
    }
   ],
   "source": [
    "my_tuple[1]"
   ]
  },
  {
   "cell_type": "markdown",
   "id": "8823f95e-75e9-41c1-9a59-11980921e130",
   "metadata": {},
   "source": [
    "Dictionary : is a collection of key value pair\n",
    "Characteristics: It is mutable like list and it allows fast lookup by keys.\n",
    "Dictionary uses curly brackets"
   ]
  },
  {
   "cell_type": "code",
   "execution_count": null,
   "id": "7a6877b8-be46-44ae-a81d-17d4be97f87b",
   "metadata": {},
   "outputs": [],
   "source": [
    "Fellow = {\"Name\" : \"Olamide\", \"Weight\" : 65, \"Age\" : 36} "
   ]
  },
  {
   "cell_type": "code",
   "execution_count": null,
   "id": "b2761976-af9c-43ec-ba43-39a21fe54f12",
   "metadata": {},
   "outputs": [],
   "source": [
    "Fellow ['Name']"
   ]
  },
  {
   "cell_type": "code",
   "execution_count": null,
   "id": "3e61eab2-39d7-476e-9c8b-a59e3636157d",
   "metadata": {},
   "outputs": [],
   "source": [
    "Fellow [\"Age\"]"
   ]
  },
  {
   "cell_type": "code",
   "execution_count": null,
   "id": "70ace405-9399-4cb5-b1c9-4b08a1d9ec4c",
   "metadata": {},
   "outputs": [],
   "source": [
    "Fellow [-1]"
   ]
  },
  {
   "cell_type": "markdown",
   "id": "b34903c4-1e81-4c40-95c1-6603e2dda1c6",
   "metadata": {},
   "source": [
    "Conditional Statements\n",
    "* ##### (If) statement: the If statement, tell us that if a condition is true. it would execute a block of statement. further, and if the condition is False, it won't execute the block."
   ]
  },
  {
   "cell_type": "code",
   "execution_count": null,
   "id": "9df4b3c9-679e-48f2-972d-ddf7718ab0ff",
   "metadata": {},
   "outputs": [],
   "source": [
    "Age = 18\n",
    "if Age >= 18:\n",
    "    print (\"Adult\")\n",
    "else: \n",
    "    print(\"Minor\")"
   ]
  },
  {
   "cell_type": "code",
   "execution_count": null,
   "id": "34f39437-fcd0-4bbd-87d3-d8081ecc7439",
   "metadata": {},
   "outputs": [],
   "source": [
    "Age = 19\n",
    "if Age <= 18:\n",
    "    print (\"Adult\")\n",
    "else: \n",
    "    print(\"Minor\")"
   ]
  },
  {
   "cell_type": "code",
   "execution_count": null,
   "id": "d9c9c494-ff8b-49b0-8378-5d31ec6a28b2",
   "metadata": {},
   "outputs": [],
   "source": [
    "Age = 16\n",
    "if Age >= 18:\n",
    "    print (\"Adult\")\n",
    "else: \n",
    "    print(\"Minor\")"
   ]
  },
  {
   "cell_type": "markdown",
   "id": "957079d0-56f9-4c47-9ddf-0cb0e7045298",
   "metadata": {},
   "source": [
    "Used case scenario of Conditional Statement\n",
    "1. Used to categorize outcome (yes/no, ages, sex:male/female\n",
    " "
   ]
  },
  {
   "cell_type": "markdown",
   "id": "ad4bccc9-2fbb-4d83-9d86-c2716e266fad",
   "metadata": {},
   "source": [
    "Functions\n",
    "* ##### Functions are a block of statements that return a specific task. The idea is to put some commonly used or repeatedly done tasks together and make a function so that instead of writing the same code over again for different inputs we can do function calls to reuse code contained in it."
   ]
  },
  {
   "cell_type": "code",
   "execution_count": 54,
   "id": "9cef3c55-22ee-4518-a1c6-53488175e205",
   "metadata": {},
   "outputs": [
    {
     "data": {
      "text/plain": [
       "'even'"
      ]
     },
     "execution_count": 54,
     "metadata": {},
     "output_type": "execute_result"
    }
   ],
   "source": [
    "def check_even_odd(x):\n",
    "    if x%2 == 0:\n",
    "        return \"even\"\n",
    "    else:\n",
    "        return \"odd\"\n",
    "(check_even_odd (20))"
   ]
  },
  {
   "cell_type": "code",
   "execution_count": null,
   "id": "4a37da0b-f850-4775-8af2-43df7587b5db",
   "metadata": {},
   "outputs": [],
   "source": [
    "check_even_odd (7)"
   ]
  },
  {
   "cell_type": "code",
   "execution_count": null,
   "id": "ebedb488-9190-4b02-9825-3b157de882a5",
   "metadata": {},
   "outputs": [],
   "source": [
    "check_even_odd (2)"
   ]
  },
  {
   "cell_type": "code",
   "execution_count": null,
   "id": "5b17deea-c5ba-4009-a898-3112889be42e",
   "metadata": {},
   "outputs": [],
   "source": [
    "check_even_odd (3)"
   ]
  },
  {
   "cell_type": "code",
   "execution_count": null,
   "id": "f300d64d-72dc-40d0-a2b9-775415a60718",
   "metadata": {},
   "outputs": [],
   "source": [
    "check_even_odd (10)"
   ]
  },
  {
   "cell_type": "markdown",
   "id": "7a3de597-7e5c-473f-a07f-bdfba001ff51",
   "metadata": {},
   "source": [
    "* ## LIBRARIES IN PYTHON 14 SEPTEMBER 2024\n",
    "* ##### 1. PANDAS 2. MATPLOTLIB 3. SEABORN 4. NUMPY\n",
    "* Numpy (numerical python) is a foundatonal package or library for numerical computation, particularly used for working with arrays.\n",
    "* It provides support for large multidimensional arrays or matrices along with a collection of mathematical functions to operate these arrays.\n",
    "* Before doing data analytics you need to import numpy as np.\n",
    "* Numpy arrays are collection of elements of the same type whic are more efficient than python lists.\n",
    "* "
   ]
  },
  {
   "cell_type": "code",
   "execution_count": 2,
   "id": "33d67ef3-523b-460f-94cb-0579d6ea0f49",
   "metadata": {},
   "outputs": [
    {
     "ename": "NameError",
     "evalue": "name 'np' is not defined",
     "output_type": "error",
     "traceback": [
      "\u001b[1;31m---------------------------------------------------------------------------\u001b[0m",
      "\u001b[1;31mNameError\u001b[0m                                 Traceback (most recent call last)",
      "Cell \u001b[1;32mIn[2], line 1\u001b[0m\n\u001b[1;32m----> 1\u001b[0m arr \u001b[38;5;241m=\u001b[39m np\u001b[38;5;241m.\u001b[39marray([\u001b[38;5;241m1\u001b[39m,\u001b[38;5;241m2\u001b[39m,\u001b[38;5;241m3\u001b[39m,\u001b[38;5;241m4\u001b[39m,\u001b[38;5;241m5\u001b[39m])\n",
      "\u001b[1;31mNameError\u001b[0m: name 'np' is not defined"
     ]
    }
   ],
   "source": [
    "arr = np.array([1,2,3,4,5])"
   ]
  },
  {
   "cell_type": "code",
   "execution_count": 5,
   "id": "189398d4-ea13-4f86-a2aa-d0fff26007a4",
   "metadata": {},
   "outputs": [],
   "source": [
    "import numpy as np\n"
   ]
  },
  {
   "cell_type": "code",
   "execution_count": 13,
   "id": "0b34d2b3-3339-4283-8ae3-e398b4b5e8e4",
   "metadata": {},
   "outputs": [],
   "source": [
    "arr = np.array([1,2,3,4,5])"
   ]
  },
  {
   "cell_type": "code",
   "execution_count": 11,
   "id": "c0773a39-7a4e-42cb-8feb-43c764f33c56",
   "metadata": {},
   "outputs": [
    {
     "ename": "SyntaxError",
     "evalue": "Missing parentheses in call to 'print'. Did you mean print(...)? (4266615455.py, line 1)",
     "output_type": "error",
     "traceback": [
      "\u001b[1;36m  Cell \u001b[1;32mIn[11], line 1\u001b[1;36m\u001b[0m\n\u001b[1;33m    print array\u001b[0m\n\u001b[1;37m    ^\u001b[0m\n\u001b[1;31mSyntaxError\u001b[0m\u001b[1;31m:\u001b[0m Missing parentheses in call to 'print'. Did you mean print(...)?\n"
     ]
    }
   ],
   "source": [
    "print array"
   ]
  },
  {
   "cell_type": "code",
   "execution_count": 12,
   "id": "560f43e1-bebb-43fe-a92f-3bad8b3a40bb",
   "metadata": {},
   "outputs": [
    {
     "name": "stdout",
     "output_type": "stream",
     "text": [
      "array\n"
     ]
    }
   ],
   "source": [
    "print ('array')"
   ]
  },
  {
   "cell_type": "code",
   "execution_count": 14,
   "id": "7d12736f-249b-40c9-b85b-f47aedd46fbf",
   "metadata": {},
   "outputs": [
    {
     "name": "stdout",
     "output_type": "stream",
     "text": [
      "arr\n"
     ]
    }
   ],
   "source": [
    "print ('arr')"
   ]
  },
  {
   "cell_type": "code",
   "execution_count": 16,
   "id": "3b1c3077-ade0-4177-a806-4a6ac90b0a26",
   "metadata": {},
   "outputs": [
    {
     "ename": "IndentationError",
     "evalue": "unexpected indent (3271123170.py, line 3)",
     "output_type": "error",
     "traceback": [
      "\u001b[1;36m  Cell \u001b[1;32mIn[16], line 3\u001b[1;36m\u001b[0m\n\u001b[1;33m    print ('arr')\u001b[0m\n\u001b[1;37m    ^\u001b[0m\n\u001b[1;31mIndentationError\u001b[0m\u001b[1;31m:\u001b[0m unexpected indent\n"
     ]
    }
   ],
   "source": [
    "import numpy as np\n",
    "arr=np.array([1,2,3,4,5])\n",
    "    print ('arr')"
   ]
  },
  {
   "cell_type": "code",
   "execution_count": 15,
   "id": "6e398f30-cc67-4d87-8c44-635643cf6430",
   "metadata": {},
   "outputs": [
    {
     "data": {
      "text/plain": [
       "array([1, 2, 3, 4, 5])"
      ]
     },
     "execution_count": 15,
     "metadata": {},
     "output_type": "execute_result"
    }
   ],
   "source": [
    "import numpy as np\n",
    "arr=np.array([1,2,3,4,5])\n",
    "arr"
   ]
  },
  {
   "cell_type": "code",
   "execution_count": 20,
   "id": "c36f4582-4994-44b5-8d43-79852a2af4ae",
   "metadata": {},
   "outputs": [
    {
     "data": {
      "text/plain": [
       "array([1, 2, 3, 4, 5])"
      ]
     },
     "execution_count": 20,
     "metadata": {},
     "output_type": "execute_result"
    }
   ],
   "source": [
    "arr\n"
   ]
  },
  {
   "cell_type": "code",
   "execution_count": 22,
   "id": "c6fec9c5-236e-44fd-a79a-c688559a4938",
   "metadata": {},
   "outputs": [
    {
     "name": "stdout",
     "output_type": "stream",
     "text": [
      "[1 2 3 4 5]\n"
     ]
    }
   ],
   "source": [
    "print (arr)"
   ]
  },
  {
   "cell_type": "markdown",
   "id": "d294b0ca-4aa2-4376-84c6-c6acab856efd",
   "metadata": {},
   "source": [
    "Arrays are used for storing large dataset, "
   ]
  },
  {
   "cell_type": "code",
   "execution_count": 25,
   "id": "e2c11981-e1d1-45df-be47-392fe4a97f3d",
   "metadata": {},
   "outputs": [
    {
     "data": {
      "text/plain": [
       "array([ 9, 10, 11])"
      ]
     },
     "execution_count": 25,
     "metadata": {},
     "output_type": "execute_result"
    }
   ],
   "source": [
    "arr=np.array([4,5,6])\n",
    "arr + 5\n"
   ]
  },
  {
   "cell_type": "code",
   "execution_count": 27,
   "id": "cbbb79ae-bd59-4a6b-ae1f-dccccc26949f",
   "metadata": {},
   "outputs": [
    {
     "data": {
      "text/plain": [
       "array([12, 15, 18])"
      ]
     },
     "execution_count": 27,
     "metadata": {},
     "output_type": "execute_result"
    }
   ],
   "source": [
    "arr*3"
   ]
  },
  {
   "cell_type": "code",
   "execution_count": 29,
   "id": "1482073b-2460-48f2-85e2-46bc70900e06",
   "metadata": {},
   "outputs": [
    {
     "data": {
      "text/plain": [
       "array([2. , 2.5, 3. ])"
      ]
     },
     "execution_count": 29,
     "metadata": {},
     "output_type": "execute_result"
    }
   ],
   "source": [
    "arr/2"
   ]
  },
  {
   "cell_type": "code",
   "execution_count": 31,
   "id": "bd8de7e4-fc7c-4bab-a0ee-4a04e9207e2d",
   "metadata": {},
   "outputs": [
    {
     "data": {
      "text/plain": [
       "array([2, 3, 4])"
      ]
     },
     "execution_count": 31,
     "metadata": {},
     "output_type": "execute_result"
    }
   ],
   "source": [
    "arr-2"
   ]
  },
  {
   "cell_type": "code",
   "execution_count": 33,
   "id": "ed64bc5c-da60-413e-a6ba-d43fc337566d",
   "metadata": {},
   "outputs": [
    {
     "data": {
      "text/plain": [
       "array([16, 25, 36])"
      ]
     },
     "execution_count": 33,
     "metadata": {},
     "output_type": "execute_result"
    }
   ],
   "source": [
    "arr**2"
   ]
  },
  {
   "cell_type": "code",
   "execution_count": 18,
   "id": "079cbe02-273f-4faa-9f20-d2b3f5ba9221",
   "metadata": {},
   "outputs": [
    {
     "data": {
      "text/plain": [
       "array([0, 1, 1, 2, 2], dtype=int32)"
      ]
     },
     "execution_count": 18,
     "metadata": {},
     "output_type": "execute_result"
    }
   ],
   "source": [
    "arr//2"
   ]
  },
  {
   "cell_type": "code",
   "execution_count": 37,
   "id": "c297d73b-8b84-4813-9db6-af9adcc9c897",
   "metadata": {},
   "outputs": [],
   "source": [
    "arr1=np.array([[1,2],[3,4]])\n",
    "arr2=np.array([[5,6],[7,8]])"
   ]
  },
  {
   "cell_type": "code",
   "execution_count": 41,
   "id": "8392bc52-c615-4aa6-b7cf-7fafcba6611b",
   "metadata": {},
   "outputs": [
    {
     "data": {
      "text/plain": [
       "array([[19, 22],\n",
       "       [43, 50]])"
      ]
     },
     "execution_count": 41,
     "metadata": {},
     "output_type": "execute_result"
    }
   ],
   "source": [
    "np.dot(arr1,arr2)"
   ]
  },
  {
   "cell_type": "markdown",
   "id": "614a410e-ab94-4540-8623-d15acab0605a",
   "metadata": {},
   "source": [
    "* ## Basic Statistics in Numpy"
   ]
  },
  {
   "cell_type": "code",
   "execution_count": 44,
   "id": "f7ed4d4c-8015-47f3-b8aa-5346c7e493e0",
   "metadata": {},
   "outputs": [
    {
     "data": {
      "text/plain": [
       "15"
      ]
     },
     "execution_count": 44,
     "metadata": {},
     "output_type": "execute_result"
    }
   ],
   "source": [
    "arr=np.array([1,2,3,4,5])\n",
    "np.sum(arr)"
   ]
  },
  {
   "cell_type": "code",
   "execution_count": 46,
   "id": "5900d987-a11e-456d-ac38-ecc7ccea8c2c",
   "metadata": {},
   "outputs": [
    {
     "data": {
      "text/plain": [
       "3.0"
      ]
     },
     "execution_count": 46,
     "metadata": {},
     "output_type": "execute_result"
    }
   ],
   "source": [
    "np.mean(arr)"
   ]
  },
  {
   "cell_type": "code",
   "execution_count": 48,
   "id": "19c8dd8b-0d0a-44cb-9742-d099d9cc452e",
   "metadata": {},
   "outputs": [
    {
     "data": {
      "text/plain": [
       "1"
      ]
     },
     "execution_count": 48,
     "metadata": {},
     "output_type": "execute_result"
    }
   ],
   "source": [
    "np.min(arr)"
   ]
  },
  {
   "cell_type": "code",
   "execution_count": 50,
   "id": "bef62a63-3251-47de-97e5-ded75d79c749",
   "metadata": {},
   "outputs": [
    {
     "data": {
      "text/plain": [
       "5"
      ]
     },
     "execution_count": 50,
     "metadata": {},
     "output_type": "execute_result"
    }
   ],
   "source": [
    "np.max(arr)"
   ]
  },
  {
   "cell_type": "code",
   "execution_count": 52,
   "id": "3d186482-48e2-490d-839a-64da627f3fab",
   "metadata": {},
   "outputs": [
    {
     "data": {
      "text/plain": [
       "1.4142135623730951"
      ]
     },
     "execution_count": 52,
     "metadata": {},
     "output_type": "execute_result"
    }
   ],
   "source": [
    "np.std(arr)"
   ]
  },
  {
   "cell_type": "markdown",
   "id": "18364ed2-947c-46ab-964e-5a72d4cb619c",
   "metadata": {},
   "source": [
    "Sum, min, max and standard deviation are methods"
   ]
  },
  {
   "cell_type": "markdown",
   "id": "371c90cc-60fa-4df1-af8b-45906a782abb",
   "metadata": {},
   "source": [
    "Pandas ia powerful python library for data manipulation and analysis esp when working with structed data e.g csv, tabular data.\n",
    "It is highly useful for data analysis becos it provides two (2) data structure: 1. Series(1D) and DataFrame (2D).\n",
    "use this to import pandas \"import pandas as pd\"\n",
    "Dataframe: \n"
   ]
  },
  {
   "cell_type": "code",
   "execution_count": 24,
   "id": "41f4ce07-99da-41cf-8534-e5d088bd7b99",
   "metadata": {},
   "outputs": [
    {
     "data": {
      "text/html": [
       "<div>\n",
       "<style scoped>\n",
       "    .dataframe tbody tr th:only-of-type {\n",
       "        vertical-align: middle;\n",
       "    }\n",
       "\n",
       "    .dataframe tbody tr th {\n",
       "        vertical-align: top;\n",
       "    }\n",
       "\n",
       "    .dataframe thead th {\n",
       "        text-align: right;\n",
       "    }\n",
       "</style>\n",
       "<table border=\"1\" class=\"dataframe\">\n",
       "  <thead>\n",
       "    <tr style=\"text-align: right;\">\n",
       "      <th></th>\n",
       "      <th>Name</th>\n",
       "      <th>Age</th>\n",
       "      <th>City</th>\n",
       "    </tr>\n",
       "  </thead>\n",
       "  <tbody>\n",
       "    <tr>\n",
       "      <th>0</th>\n",
       "      <td>Alice</td>\n",
       "      <td>25</td>\n",
       "      <td>New York</td>\n",
       "    </tr>\n",
       "    <tr>\n",
       "      <th>1</th>\n",
       "      <td>Bob</td>\n",
       "      <td>30</td>\n",
       "      <td>Los Angeles</td>\n",
       "    </tr>\n",
       "    <tr>\n",
       "      <th>2</th>\n",
       "      <td>Charlie</td>\n",
       "      <td>35</td>\n",
       "      <td>Chicago</td>\n",
       "    </tr>\n",
       "  </tbody>\n",
       "</table>\n",
       "</div>"
      ],
      "text/plain": [
       "      Name  Age         City\n",
       "0    Alice   25     New York\n",
       "1      Bob   30  Los Angeles\n",
       "2  Charlie   35      Chicago"
      ]
     },
     "execution_count": 24,
     "metadata": {},
     "output_type": "execute_result"
    }
   ],
   "source": [
    "import pandas as pd\n",
    "\n",
    "# Creating a DataFrame from a dictionary\n",
    "data = {\n",
    "    'Name': ['Alice', 'Bob', 'Charlie'],\n",
    "    'Age': [25, 30, 35],\n",
    "    'City': ['New York', 'Los Angeles', 'Chicago']\n",
    "}\n",
    "\n",
    "df = pd.DataFrame(data)\n",
    "\n",
    "# Display the DataFrame\n",
    "df"
   ]
  },
  {
   "cell_type": "code",
   "execution_count": 26,
   "id": "86770d11-c818-46b1-8d14-8e27efa135af",
   "metadata": {},
   "outputs": [],
   "source": [
    "import pandas as pd"
   ]
  },
  {
   "cell_type": "code",
   "execution_count": 28,
   "id": "8d50fd3c-94a0-4148-90dc-a66d0c43b675",
   "metadata": {},
   "outputs": [],
   "source": [
    "s=pd.Series([2,4,6,8,10])"
   ]
  },
  {
   "cell_type": "code",
   "execution_count": 63,
   "id": "26891f1b-4ab6-47fa-a694-c42c470854ea",
   "metadata": {},
   "outputs": [
    {
     "data": {
      "text/plain": [
       "0     2\n",
       "1     4\n",
       "2     6\n",
       "3     8\n",
       "4    10\n",
       "dtype: int64"
      ]
     },
     "execution_count": 63,
     "metadata": {},
     "output_type": "execute_result"
    }
   ],
   "source": [
    "s"
   ]
  },
  {
   "cell_type": "code",
   "execution_count": 65,
   "id": "46de2bdb-435d-4a27-9b54-23a90cd83731",
   "metadata": {},
   "outputs": [
    {
     "data": {
      "text/html": [
       "<div>\n",
       "<style scoped>\n",
       "    .dataframe tbody tr th:only-of-type {\n",
       "        vertical-align: middle;\n",
       "    }\n",
       "\n",
       "    .dataframe tbody tr th {\n",
       "        vertical-align: top;\n",
       "    }\n",
       "\n",
       "    .dataframe thead th {\n",
       "        text-align: right;\n",
       "    }\n",
       "</style>\n",
       "<table border=\"1\" class=\"dataframe\">\n",
       "  <thead>\n",
       "    <tr style=\"text-align: right;\">\n",
       "      <th></th>\n",
       "      <th>Name</th>\n",
       "      <th>Age</th>\n",
       "    </tr>\n",
       "  </thead>\n",
       "  <tbody>\n",
       "    <tr>\n",
       "      <th>0</th>\n",
       "      <td>John</td>\n",
       "      <td>28</td>\n",
       "    </tr>\n",
       "    <tr>\n",
       "      <th>1</th>\n",
       "      <td>Ama</td>\n",
       "      <td>24</td>\n",
       "    </tr>\n",
       "    <tr>\n",
       "      <th>2</th>\n",
       "      <td>Peter</td>\n",
       "      <td>35</td>\n",
       "    </tr>\n",
       "  </tbody>\n",
       "</table>\n",
       "</div>"
      ],
      "text/plain": [
       "    Name  Age\n",
       "0   John   28\n",
       "1    Ama   24\n",
       "2  Peter   35"
      ]
     },
     "execution_count": 65,
     "metadata": {},
     "output_type": "execute_result"
    }
   ],
   "source": [
    "df={'Name':['John', 'Ama', 'Peter'], 'Age':[28,24,35]}\n",
    "pd.DataFrame(df)"
   ]
  },
  {
   "cell_type": "code",
   "execution_count": 67,
   "id": "b5a1cd63-bbd5-4847-94ab-295fcc165dbc",
   "metadata": {},
   "outputs": [],
   "source": [
    "df={'Name':['John', 'Ama', 'Peter'], 'Age':[28,24,35], 'Location': ['Ondo', 'Ogun', 'Lagos']}"
   ]
  },
  {
   "cell_type": "code",
   "execution_count": 69,
   "id": "c706f2a3-9969-4f79-a783-99d2ac5afbfe",
   "metadata": {},
   "outputs": [
    {
     "data": {
      "text/html": [
       "<div>\n",
       "<style scoped>\n",
       "    .dataframe tbody tr th:only-of-type {\n",
       "        vertical-align: middle;\n",
       "    }\n",
       "\n",
       "    .dataframe tbody tr th {\n",
       "        vertical-align: top;\n",
       "    }\n",
       "\n",
       "    .dataframe thead th {\n",
       "        text-align: right;\n",
       "    }\n",
       "</style>\n",
       "<table border=\"1\" class=\"dataframe\">\n",
       "  <thead>\n",
       "    <tr style=\"text-align: right;\">\n",
       "      <th></th>\n",
       "      <th>Name</th>\n",
       "      <th>Age</th>\n",
       "      <th>Location</th>\n",
       "    </tr>\n",
       "  </thead>\n",
       "  <tbody>\n",
       "    <tr>\n",
       "      <th>0</th>\n",
       "      <td>John</td>\n",
       "      <td>28</td>\n",
       "      <td>Ondo</td>\n",
       "    </tr>\n",
       "    <tr>\n",
       "      <th>1</th>\n",
       "      <td>Ama</td>\n",
       "      <td>24</td>\n",
       "      <td>Ogun</td>\n",
       "    </tr>\n",
       "    <tr>\n",
       "      <th>2</th>\n",
       "      <td>Peter</td>\n",
       "      <td>35</td>\n",
       "      <td>Lagos</td>\n",
       "    </tr>\n",
       "  </tbody>\n",
       "</table>\n",
       "</div>"
      ],
      "text/plain": [
       "    Name  Age Location\n",
       "0   John   28     Ondo\n",
       "1    Ama   24     Ogun\n",
       "2  Peter   35    Lagos"
      ]
     },
     "execution_count": 69,
     "metadata": {},
     "output_type": "execute_result"
    }
   ],
   "source": [
    "pd.DataFrame(df)"
   ]
  },
  {
   "cell_type": "code",
   "execution_count": null,
   "id": "492116df-38eb-4e9a-ae5e-b6c8bbe04d3c",
   "metadata": {},
   "outputs": [],
   "source": []
  },
  {
   "cell_type": "markdown",
   "id": "a52f3b2f",
   "metadata": {},
   "source": [
    "or method "
   ]
  }
 ],
 "metadata": {
  "kernelspec": {
   "display_name": "Python 3 (ipykernel)",
   "language": "python",
   "name": "python3"
  },
  "language_info": {
   "codemirror_mode": {
    "name": "ipython",
    "version": 3
   },
   "file_extension": ".py",
   "mimetype": "text/x-python",
   "name": "python",
   "nbconvert_exporter": "python",
   "pygments_lexer": "ipython3",
   "version": "3.12.4"
  }
 },
 "nbformat": 4,
 "nbformat_minor": 5
}
